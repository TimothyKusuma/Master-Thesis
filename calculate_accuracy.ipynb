{
 "cells": [
  {
   "cell_type": "code",
   "execution_count": 1,
   "metadata": {},
   "outputs": [
    {
     "name": "stderr",
     "output_type": "stream",
     "text": [
      "c:\\Python311\\Lib\\site-packages\\numpy\\_distributor_init.py:30: UserWarning: loaded more than 1 DLL from .libs:\n",
      "c:\\Python311\\Lib\\site-packages\\numpy\\.libs\\libopenblas.FB5AE2TYXYH2IJRDKGDGQ3XBKLKTF43H.gfortran-win_amd64.dll\n",
      "c:\\Python311\\Lib\\site-packages\\numpy\\.libs\\libopenblas64__v0.3.21-gcc_10_3_0.dll\n",
      "c:\\Python311\\Lib\\site-packages\\numpy\\.libs\\libopenblas64__v0.3.23-gcc_10_3_0.dll\n",
      "  warnings.warn(\"loaded more than 1 DLL from .libs:\"\n"
     ]
    }
   ],
   "source": [
    "import os\n",
    "import yaml\n",
    "import glob\n",
    "import Levenshtein as lev\n",
    "from sklearn.metrics import precision_score, recall_score, f1_score"
   ]
  },
  {
   "cell_type": "code",
   "execution_count": 2,
   "metadata": {},
   "outputs": [],
   "source": [
    "def load_yaml(file_path):\n",
    "    with open(file_path, 'r') as stream:\n",
    "        try:\n",
    "            return yaml.safe_load(stream)\n",
    "        except yaml.YAMLError as exc:\n",
    "            print(exc)"
   ]
  },
  {
   "cell_type": "code",
   "execution_count": 3,
   "metadata": {},
   "outputs": [],
   "source": [
    "def compare_items(true_items, detected_items):\n",
    "    TP = FP = FN = 0\n",
    "    \n",
    "    for item in detected_items:\n",
    "        if item in true_items:\n",
    "            TP += 1\n",
    "        else:\n",
    "            FP += 1\n",
    "    \n",
    "    for item in true_items:\n",
    "        if item not in detected_items:\n",
    "            FN += 1\n",
    "            \n",
    "    return TP, FP, FN"
   ]
  },
  {
   "cell_type": "code",
   "execution_count": 4,
   "metadata": {},
   "outputs": [],
   "source": [
    "def compare_constructs(true_constructs, detected_constructs, max_distance=3):\n",
    "    true_set = set(true_constructs.values())\n",
    "    detected_set = set(detected_constructs.values())\n",
    "    TP = sum(1 for det in detected_set if any(is_similar(det, tru, max_distance) for tru in true_set))\n",
    "    FP = len(detected_set) - TP\n",
    "    FN = len(true_set) - TP\n",
    "    return TP, FP, FN\n",
    "\n",
    "# maybe remove special characters first"
   ]
  },
  {
   "cell_type": "code",
   "execution_count": 5,
   "metadata": {},
   "outputs": [],
   "source": [
    "def compare_hypotheses(true_constructs, detected_constructs, true_hypotheses, detected_hypotheses):\n",
    "    # Translate hypothesis keys to construct names for true data\n",
    "    true_hypotheses_translated = {(true_constructs[h['cause']], true_constructs[h['effect']]) for h in true_hypotheses.values()}\n",
    "    # Translate hypothesis keys to construct names for detected data\n",
    "    detected_hypotheses_translated = {(detected_constructs[h['cause']], detected_constructs[h['effect']]) for h in detected_hypotheses.values()}\n",
    "\n",
    "    TP = len(true_hypotheses_translated.intersection(detected_hypotheses_translated))\n",
    "    FP = len(detected_hypotheses_translated - true_hypotheses_translated)\n",
    "    FN = len(true_hypotheses_translated - detected_hypotheses_translated)\n",
    "\n",
    "    return TP, FP, FN"
   ]
  },
  {
   "cell_type": "code",
   "execution_count": 6,
   "metadata": {},
   "outputs": [
    {
     "data": {
      "text/plain": [
       "'\\ndef compare_texts(true_texts, detected_texts, max_distance=3):\\n    TP = sum(1 for det_text in detected_texts if any(is_similar(det_text, true_text, max_distance) for true_text in true_texts))\\n    FP = len(detected_texts) - TP\\n    FN = len(true_texts) - TP\\n    return TP, FP, FN\\n'"
      ]
     },
     "execution_count": 6,
     "metadata": {},
     "output_type": "execute_result"
    }
   ],
   "source": [
    "\"\"\"\n",
    "def compare_texts(true_texts, detected_texts, max_distance=3):\n",
    "    TP = sum(1 for det_text in detected_texts if any(is_similar(det_text, true_text, max_distance) for true_text in true_texts))\n",
    "    FP = len(detected_texts) - TP\n",
    "    FN = len(true_texts) - TP\n",
    "    return TP, FP, FN\n",
    "\"\"\""
   ]
  },
  {
   "cell_type": "code",
   "execution_count": 7,
   "metadata": {},
   "outputs": [],
   "source": [
    "def is_similar(str1, str2, max_distance=3):\n",
    "    return lev.distance(str1, str2) <= max_distance"
   ]
  },
  {
   "cell_type": "code",
   "execution_count": 8,
   "metadata": {},
   "outputs": [],
   "source": [
    "def calculate_metrics(TP, FP, FN):\n",
    "    precision = TP / (TP + FP) if TP + FP > 0 else 0\n",
    "    recall = TP / (TP + FN) if TP + FN > 0 else 0\n",
    "    f1 = 2 * (precision * recall) / (precision + recall) if precision + recall > 0 else 0\n",
    "    return precision, recall, f1"
   ]
  },
  {
   "cell_type": "code",
   "execution_count": 9,
   "metadata": {},
   "outputs": [],
   "source": [
    "# Load the YAML files\n",
    "extracted_files = sorted(glob.glob('chatGPT_long/*.yaml'))\n",
    "extracted_files_v2 = sorted(glob.glob('chatGPT_short/*.yaml'))\n",
    "ground_truth_files = sorted(glob.glob('true_results/*.yaml'))\n"
   ]
  },
  {
   "cell_type": "code",
   "execution_count": 10,
   "metadata": {},
   "outputs": [
    {
     "data": {
      "text/plain": [
       "['chatGPT_long/diagram1.yaml',\n",
       " 'chatGPT_long/diagram2.yaml',\n",
       " 'chatGPT_long/diagram28.yaml',\n",
       " 'chatGPT_long/diagram3.yaml',\n",
       " 'chatGPT_long/diagram30.yaml',\n",
       " 'chatGPT_long/diagram4.yaml',\n",
       " 'chatGPT_long/diagram5.yaml',\n",
       " 'chatGPT_long/diagram50.yaml',\n",
       " 'chatGPT_long/diagram6.yaml',\n",
       " 'chatGPT_long/diagram7.yaml',\n",
       " 'chatGPT_long/diagram8.yaml',\n",
       " 'chatGPT_long/diagram87.yaml',\n",
       " 'chatGPT_long/diagram99.yaml']"
      ]
     },
     "execution_count": 10,
     "metadata": {},
     "output_type": "execute_result"
    }
   ],
   "source": [
    "ground_truth_files = [element.replace(\"\\\\\", \"/\") for element in ground_truth_files]\n",
    "extracted_files = [element.replace(\"\\\\\", \"/\") for element in extracted_files]\n",
    "extracted_files_v2 = [element.replace(\"\\\\\", \"/\") for element in extracted_files_v2]\n",
    "\n",
    "\n",
    "extracted_files"
   ]
  },
  {
   "cell_type": "code",
   "execution_count": 11,
   "metadata": {},
   "outputs": [
    {
     "data": {
      "text/plain": [
       "'\\nground_truth = []\\nextracted_data = []\\nextracted_data_v2 = []\\n\\n\\n# Load files\\nfor gt_file, ex_file in zip(ground_truth_files, extracted_files):\\n    ground_truth.append(load_yaml(gt_file))\\n    extracted_data.append(load_yaml(ex_file))\\n\\n'"
      ]
     },
     "execution_count": 11,
     "metadata": {},
     "output_type": "execute_result"
    }
   ],
   "source": [
    "\"\"\"\n",
    "ground_truth = []\n",
    "extracted_data = []\n",
    "extracted_data_v2 = []\n",
    "\n",
    "\n",
    "# Load files\n",
    "for gt_file, ex_file in zip(ground_truth_files, extracted_files):\n",
    "    ground_truth.append(load_yaml(gt_file))\n",
    "    extracted_data.append(load_yaml(ex_file))\n",
    "\n",
    "\"\"\""
   ]
  },
  {
   "cell_type": "code",
   "execution_count": 12,
   "metadata": {},
   "outputs": [
    {
     "data": {
      "text/plain": [
       "'\\n# Initialize counters for constructs and hypotheses\\nconstructs_TP = constructs_FP = constructs_FN = 0\\nhypotheses_TP = hypotheses_FP = hypotheses_FN = 0\\n\\n# Process each file\\nfor gt_file, ex_file in zip(ground_truth_files, extracted_files):\\n    ground_truth = load_yaml(gt_file)\\n    extracted_data = load_yaml(ex_file)\\n\\n    # If either file failed to load properly, skip this pair\\n    if ground_truth is None or extracted_data is None:\\n        print(f\"Error loading files: {gt_file}, {ex_file}\")\\n        continue\\n    if \\'constructs\\' not in ground_truth or \\'constructs\\' not in extracted_data:\\n        print(f\"Missing \\'constructs\\' in files: {gt_file}, {ex_file}\")\\n        continue\\n    \\n    # Compare constructs\\n    true_constructs = ground_truth.get(\\'constructs\\', {})\\n    detected_constructs = extracted_data.get(\\'constructs\\', {})\\n    TP, FP, FN = compare_constructs(true_constructs, detected_constructs)\\n    constructs_TP += TP\\n    constructs_FP += FP\\n    constructs_FN += FN\\n\\n    # Compare hypotheses using the updated function\\n    true_hypotheses = ground_truth.get(\\'hypotheses\\', {})\\n    detected_hypotheses = extracted_data.get(\\'hypotheses\\', {})\\n    TP, FP, FN = compare_hypotheses(true_constructs, detected_constructs, true_hypotheses, detected_hypotheses)\\n    hypotheses_TP += TP\\n    hypotheses_FP += FP\\n    hypotheses_FN += FN\\n\\n    # Compare texts\\n    #TP, FP, FN = compare_texts(ground_truth[\\'texts\\'], extracted_data[\\'texts\\'])\\n    #all_TP += TP\\n    #all_FP += FP\\n    #all_FN += FN\\n'"
      ]
     },
     "execution_count": 12,
     "metadata": {},
     "output_type": "execute_result"
    }
   ],
   "source": [
    "\"\"\"\n",
    "# Initialize counters for constructs and hypotheses\n",
    "constructs_TP = constructs_FP = constructs_FN = 0\n",
    "hypotheses_TP = hypotheses_FP = hypotheses_FN = 0\n",
    "\n",
    "# Process each file\n",
    "for gt_file, ex_file in zip(ground_truth_files, extracted_files):\n",
    "    ground_truth = load_yaml(gt_file)\n",
    "    extracted_data = load_yaml(ex_file)\n",
    "\n",
    "    # If either file failed to load properly, skip this pair\n",
    "    if ground_truth is None or extracted_data is None:\n",
    "        print(f\"Error loading files: {gt_file}, {ex_file}\")\n",
    "        continue\n",
    "    if 'constructs' not in ground_truth or 'constructs' not in extracted_data:\n",
    "        print(f\"Missing 'constructs' in files: {gt_file}, {ex_file}\")\n",
    "        continue\n",
    "    \n",
    "    # Compare constructs\n",
    "    true_constructs = ground_truth.get('constructs', {})\n",
    "    detected_constructs = extracted_data.get('constructs', {})\n",
    "    TP, FP, FN = compare_constructs(true_constructs, detected_constructs)\n",
    "    constructs_TP += TP\n",
    "    constructs_FP += FP\n",
    "    constructs_FN += FN\n",
    "\n",
    "    # Compare hypotheses using the updated function\n",
    "    true_hypotheses = ground_truth.get('hypotheses', {})\n",
    "    detected_hypotheses = extracted_data.get('hypotheses', {})\n",
    "    TP, FP, FN = compare_hypotheses(true_constructs, detected_constructs, true_hypotheses, detected_hypotheses)\n",
    "    hypotheses_TP += TP\n",
    "    hypotheses_FP += FP\n",
    "    hypotheses_FN += FN\n",
    "\n",
    "    # Compare texts\n",
    "    #TP, FP, FN = compare_texts(ground_truth['texts'], extracted_data['texts'])\n",
    "    #all_TP += TP\n",
    "    #all_FP += FP\n",
    "    #all_FN += FN\n",
    "\"\"\""
   ]
  },
  {
   "cell_type": "code",
   "execution_count": 13,
   "metadata": {},
   "outputs": [],
   "source": [
    "# Initialize counters for constructs and hypotheses for both extracted versions\n",
    "constructs_TP_v1 = constructs_FP_v1 = constructs_FN_v1 = 0\n",
    "hypotheses_TP_v1 = hypotheses_FP_v1 = hypotheses_FN_v1 = 0\n",
    "\n",
    "constructs_TP_v2 = constructs_FP_v2 = constructs_FN_v2 = 0\n",
    "hypotheses_TP_v2 = hypotheses_FP_v2 = hypotheses_FN_v2 = 0\n",
    "\n",
    "# Process each file for extracted_files and extracted_files_v2\n",
    "for gt_file, ex_file_v1, ex_file_v2 in zip(ground_truth_files, extracted_files, extracted_files_v2):\n",
    "    # Process for version 1\n",
    "    ground_truth = load_yaml(gt_file)\n",
    "    extracted_data_v1 = load_yaml(ex_file_v1)\n",
    "    \n",
    "    # Process for version 2\n",
    "    extracted_data_v2 = load_yaml(ex_file_v2)\n",
    "    \n",
    "    # If either file failed to load properly, skip this pair\n",
    "    if ground_truth is None:\n",
    "        print(f\"Error loading ground truth file: {gt_file}\")\n",
    "        continue\n",
    "    \n",
    "    # Check for constructs and hypotheses in ground truth and extracted data v1\n",
    "    if 'constructs' not in ground_truth or 'constructs' not in extracted_data_v1:\n",
    "        print(f\"Missing 'constructs' in files: {gt_file}, {ex_file_v1}\")\n",
    "    else:\n",
    "        # Compare constructs for v1\n",
    "        true_constructs = ground_truth.get('constructs', {})\n",
    "        detected_constructs_v1 = extracted_data_v1.get('constructs', {})\n",
    "        TP, FP, FN = compare_constructs(true_constructs, detected_constructs_v1)\n",
    "        constructs_TP_v1 += TP\n",
    "        constructs_FP_v1 += FP\n",
    "        constructs_FN_v1 += FN\n",
    "\n",
    "        # Compare hypotheses for v1\n",
    "        true_hypotheses = ground_truth.get('hypotheses', {})\n",
    "        detected_hypotheses_v1 = extracted_data_v1.get('hypotheses', {})\n",
    "        TP, FP, FN = compare_hypotheses(true_constructs, detected_constructs_v1, true_hypotheses, detected_hypotheses_v1)\n",
    "        hypotheses_TP_v1 += TP\n",
    "        hypotheses_FP_v1 += FP\n",
    "        hypotheses_FN_v1 += FN\n",
    "    \n",
    "    # Check for constructs and hypotheses in extracted data v2\n",
    "    if 'constructs' not in extracted_data_v2:\n",
    "        print(f\"Missing 'constructs' in file: {ex_file_v2}\")\n",
    "    else:\n",
    "        # Compare constructs for v2\n",
    "        detected_constructs_v2 = extracted_data_v2.get('constructs', {})\n",
    "        TP, FP, FN = compare_constructs(true_constructs, detected_constructs_v2)\n",
    "        constructs_TP_v2 += TP\n",
    "        constructs_FP_v2 += FP\n",
    "        constructs_FN_v2 += FN\n",
    "\n",
    "        # Compare hypotheses for v2\n",
    "        detected_hypotheses_v2 = extracted_data_v2.get('hypotheses', {})\n",
    "        TP, FP, FN = compare_hypotheses(true_constructs, detected_constructs_v2, true_hypotheses, detected_hypotheses_v2)\n",
    "        hypotheses_TP_v2 += TP\n",
    "        hypotheses_FP_v2 += FP\n",
    "        hypotheses_FN_v2 += FN\n"
   ]
  },
  {
   "cell_type": "code",
   "execution_count": 14,
   "metadata": {},
   "outputs": [
    {
     "name": "stdout",
     "output_type": "stream",
     "text": [
      "Constructs v1 - Precision: 0.90, Recall: 0.85, F1 Score: 0.87 (ChatGPT long prompt)\n",
      "Constructs v2 - Precision: 1.00, Recall: 0.97, F1 Score: 0.98 (ChatGPT short prompt)\n",
      "Constructs    - Precision: 0.88, Recall: 0.80, F1 Score: 0.82 (Mammoth pipeline)\n",
      "\n",
      "\n",
      "Hypotheses v1 - Precision: 0.51, Recall: 0.47, F1 Score: 0.49 (ChatGPT long prompt)\n",
      "Hypotheses v2 - Precision: 0.60, Recall: 0.50, F1 Score: 0.54 (ChatGPT long prompt)\n"
     ]
    }
   ],
   "source": [
    "# Calculate and print metrics for constructs for the original extracted files\n",
    "constructs_precision_v1, constructs_recall_v1, constructs_f1_v1 = calculate_metrics(constructs_TP_v1, constructs_FP_v1, constructs_FN_v1)\n",
    "print(f\"Constructs v1 - Precision: {constructs_precision_v1:.2f}, Recall: {constructs_recall_v1:.2f}, F1 Score: {constructs_f1_v1:.2f} (ChatGPT long prompt)\")\n",
    "\n",
    "# Calculate and print metrics for constructs for the extracted_files_v2\n",
    "constructs_precision_v2, constructs_recall_v2, constructs_f1_v2 = calculate_metrics(constructs_TP_v2, constructs_FP_v2, constructs_FN_v2)\n",
    "print(f\"Constructs v2 - Precision: {constructs_precision_v2:.2f}, Recall: {constructs_recall_v2:.2f}, F1 Score: {constructs_f1_v2:.2f} (ChatGPT short prompt)\")\n",
    "\n",
    "print(\"Constructs    - Precision: 0.88, Recall: 0.80, F1 Score: 0.82 (Mammoth pipeline)\")\n",
    "\n",
    "print(\"\\n\")\n",
    "\n",
    "# Calculate and print metrics for hypotheses for the original extracted files\n",
    "hypotheses_precision_v1, hypotheses_recall_v1, hypotheses_f1_v1 = calculate_metrics(hypotheses_TP_v1, hypotheses_FP_v1, hypotheses_FN_v1)\n",
    "print(f\"Hypotheses v1 - Precision: {hypotheses_precision_v1:.2f}, Recall: {hypotheses_recall_v1:.2f}, F1 Score: {hypotheses_f1_v1:.2f} (ChatGPT long prompt)\")\n",
    "\n",
    "# Calculate and print metrics for hypotheses for the extracted_files_v2\n",
    "hypotheses_precision_v2, hypotheses_recall_v2, hypotheses_f1_v2 = calculate_metrics(hypotheses_TP_v2, hypotheses_FP_v2, hypotheses_FN_v2)\n",
    "print(f\"Hypotheses v2 - Precision: {hypotheses_precision_v2:.2f}, Recall: {hypotheses_recall_v2:.2f}, F1 Score: {hypotheses_f1_v2:.2f} (ChatGPT long prompt)\")\n",
    "\n"
   ]
  },
  {
   "cell_type": "code",
   "execution_count": 15,
   "metadata": {},
   "outputs": [
    {
     "data": {
      "text/plain": [
       "'\\n# Calculate and print metrics for constructs\\nconstructs_precision, constructs_recall, constructs_f1 = calculate_metrics(constructs_TP, constructs_FP, constructs_FN)\\nprint(f\"Constructs - Precision: {constructs_precision:.2f}, Recall: {constructs_recall:.2f}, F1 Score: {constructs_f1:.2f} (ChatGPT long prompt)\")\\n\\nprint(\"Constructs - Precision: 0.88, Recall: 0.80, F1 Score: 0.82 (Mammoth pipeline)\")\\n\\n# Calculate and print metrics for hypotheses\\n#hypotheses_precision, hypotheses_recall, hypotheses_f1 = calculate_metrics(hypotheses_TP, hypotheses_FP, hypotheses_FN)\\n#print(f\"Hypotheses - Precision: {hypotheses_precision:.2f}, Recall: {hypotheses_recall:.2f}, F1 Score: {hypotheses_f1:.2f} (ChatGPT long prompt)\")\\n'"
      ]
     },
     "execution_count": 15,
     "metadata": {},
     "output_type": "execute_result"
    }
   ],
   "source": [
    "\"\"\"\n",
    "# Calculate and print metrics for constructs\n",
    "constructs_precision, constructs_recall, constructs_f1 = calculate_metrics(constructs_TP, constructs_FP, constructs_FN)\n",
    "print(f\"Constructs - Precision: {constructs_precision:.2f}, Recall: {constructs_recall:.2f}, F1 Score: {constructs_f1:.2f} (ChatGPT long prompt)\")\n",
    "\n",
    "print(\"Constructs - Precision: 0.88, Recall: 0.80, F1 Score: 0.82 (Mammoth pipeline)\")\n",
    "\n",
    "# Calculate and print metrics for hypotheses\n",
    "#hypotheses_precision, hypotheses_recall, hypotheses_f1 = calculate_metrics(hypotheses_TP, hypotheses_FP, hypotheses_FN)\n",
    "#print(f\"Hypotheses - Precision: {hypotheses_precision:.2f}, Recall: {hypotheses_recall:.2f}, F1 Score: {hypotheses_f1:.2f} (ChatGPT long prompt)\")\n",
    "\"\"\""
   ]
  }
 ],
 "metadata": {
  "kernelspec": {
   "display_name": "Python 3",
   "language": "python",
   "name": "python3"
  },
  "language_info": {
   "codemirror_mode": {
    "name": "ipython",
    "version": 3
   },
   "file_extension": ".py",
   "mimetype": "text/x-python",
   "name": "python",
   "nbconvert_exporter": "python",
   "pygments_lexer": "ipython3",
   "version": "3.11.3"
  },
  "orig_nbformat": 4
 },
 "nbformat": 4,
 "nbformat_minor": 2
}
