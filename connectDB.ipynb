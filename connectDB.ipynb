{
 "cells": [
  {
   "cell_type": "code",
   "execution_count": 1,
   "metadata": {},
   "outputs": [
    {
     "name": "stderr",
     "output_type": "stream",
     "text": [
      "c:\\Python311\\Lib\\site-packages\\numpy\\_distributor_init.py:30: UserWarning: loaded more than 1 DLL from .libs:\n",
      "c:\\Python311\\Lib\\site-packages\\numpy\\.libs\\libopenblas.FB5AE2TYXYH2IJRDKGDGQ3XBKLKTF43H.gfortran-win_amd64.dll\n",
      "c:\\Python311\\Lib\\site-packages\\numpy\\.libs\\libopenblas64__v0.3.21-gcc_10_3_0.dll\n",
      "c:\\Python311\\Lib\\site-packages\\numpy\\.libs\\libopenblas64__v0.3.23-gcc_10_3_0.dll\n",
      "  warnings.warn(\"loaded more than 1 DLL from .libs:\"\n"
     ]
    }
   ],
   "source": [
    "# connect to duckdb\n",
    "import duckdb\n",
    "import pandas as pd"
   ]
  },
  {
   "cell_type": "code",
   "execution_count": 7,
   "metadata": {},
   "outputs": [],
   "source": [
    "# connect to duckdb\n",
    "con = duckdb.connect(database='isrecon.duckdb')\n"
   ]
  },
  {
   "cell_type": "code",
   "execution_count": 5,
   "metadata": {},
   "outputs": [
    {
     "name": "stdout",
     "output_type": "stream",
     "text": [
      "[(1, '1_2_21', '1_0', 'Examining interdependence between product users and employees in online user communities: The role of employee-generated content', 'Examining interdependence between product users users and employees in online user communities : The role of employee - generated content', 'Examining interdependence between product users users and employees in online user communities : The role of employee - generated content', 0, None, None, 'PARAGRAPH', 0, 'Examining interdependence between product users users and employees in online user communities : The role of employee - generated content', 'Examining interdependence between product users users and employees in online user communities : The role of employee - generated content', 0)]\n"
     ]
    }
   ],
   "source": [
    "# Execute a query to read a line (a single row)\n",
    "result = con.execute(\"SELECT * FROM sentences LIMIT 1\").fetchall()\n",
    "\n",
    "# Print the result\n",
    "print(result)"
   ]
  },
  {
   "cell_type": "code",
   "execution_count": 8,
   "metadata": {},
   "outputs": [
    {
     "name": "stdout",
     "output_type": "stream",
     "text": [
      "authors\n",
      "citations\n",
      "entities\n",
      "keywords\n",
      "ontology\n",
      "papers\n",
      "sentences\n",
      "sources\n",
      "synonyms\n"
     ]
    }
   ],
   "source": [
    "# Execute a query to get all table names\n",
    "tables = con.execute(\"SHOW TABLES\").fetchall()\n",
    "\n",
    "# Print the list of table names\n",
    "for table in tables:\n",
    "    print(table[0])"
   ]
  },
  {
   "cell_type": "code",
   "execution_count": null,
   "metadata": {},
   "outputs": [],
   "source": [
    "# Close the connection\n",
    "con.close()"
   ]
  }
 ],
 "metadata": {
  "kernelspec": {
   "display_name": "Python 3",
   "language": "python",
   "name": "python3"
  },
  "language_info": {
   "codemirror_mode": {
    "name": "ipython",
    "version": 3
   },
   "file_extension": ".py",
   "mimetype": "text/x-python",
   "name": "python",
   "nbconvert_exporter": "python",
   "pygments_lexer": "ipython3",
   "version": "3.11.3"
  }
 },
 "nbformat": 4,
 "nbformat_minor": 2
}
