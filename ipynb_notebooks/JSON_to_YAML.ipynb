{
 "cells": [
  {
   "cell_type": "code",
   "execution_count": null,
   "metadata": {},
   "outputs": [],
   "source": [
    "import json\n",
    "import os\n",
    "import re\n",
    "import yaml"
   ]
  },
  {
   "cell_type": "code",
   "execution_count": null,
   "metadata": {},
   "outputs": [],
   "source": [
    "# Directory containing the JSON files\n",
    "json_directory = '../chatGPT_JSON'\n",
    "yaml_directory = '../chatGPT_YAML_JSON'"
   ]
  },
  {
   "cell_type": "code",
   "execution_count": null,
   "metadata": {},
   "outputs": [],
   "source": [
    "# Function to convert JSON to YAML\n",
    "def convert_json_to_yaml(json_file_path):\n",
    "    # Extracting the diagram number from the file name\n",
    "    diagram_number = re.search(r'\\d+', os.path.basename(json_file_path)).group()\n",
    "    figure_name = f\"diagram{diagram_number}.png\"\n",
    "\n",
    "    # Reading the JSON file\n",
    "    with open(json_file_path, 'r') as json_file:\n",
    "        json_data = json.load(json_file)\n",
    "\n",
    "    # Preparing the YAML data structure\n",
    "    yaml_data = {\n",
    "        \"authors\": \"\",\n",
    "        \"constructs\": {},\n",
    "        \"figure\": figure_name,\n",
    "        \"hypotheses\": {},\n",
    "        \"id\": \"\",\n",
    "        \"name\": \"\",\n",
    "        \"year\": 1000\n",
    "    }\n",
    "\n",
    "    # Populate 'constructs' and 'hypotheses'...\n",
    "\n",
    "    # Converting to YAML\n",
    "    yaml_output = yaml.dump(yaml_data, default_flow_style=False)\n",
    "\n",
    "    # Writing the YAML file in the specified YAML directory\n",
    "    yaml_file_path = os.path.join(yaml_directory, f\"diagram{diagram_number}.yaml\")\n",
    "    with open(yaml_file_path, 'w') as yaml_file:\n",
    "        yaml_file.write(yaml_output)"
   ]
  },
  {
   "cell_type": "code",
   "execution_count": null,
   "metadata": {},
   "outputs": [],
   "source": [
    "# Iterate over each JSON file in the directory\n",
    "for file_name in os.listdir(json_directory):\n",
    "    if file_name.endswith('.json'):\n",
    "        json_file_path = os.path.join(json_directory, file_name)\n",
    "        convert_json_to_yaml(json_file_path)"
   ]
  }
 ],
 "metadata": {
  "language_info": {
   "name": "python"
  }
 },
 "nbformat": 4,
 "nbformat_minor": 2
}
