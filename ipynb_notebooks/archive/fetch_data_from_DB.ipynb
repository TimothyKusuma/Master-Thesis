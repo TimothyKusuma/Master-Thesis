{
 "cells": [
  {
   "cell_type": "code",
   "execution_count": 6,
   "metadata": {},
   "outputs": [],
   "source": [
    "# connect to duckdb\n",
    "import duckdb\n",
    "import pandas as pd"
   ]
  },
  {
   "cell_type": "code",
   "execution_count": 7,
   "metadata": {},
   "outputs": [],
   "source": [
    "# connect to duckdb\n",
    "con = duckdb.connect(database='../isrecon.duckdb')\n"
   ]
  },
  {
   "cell_type": "code",
   "execution_count": 8,
   "metadata": {},
   "outputs": [
    {
     "name": "stdout",
     "output_type": "stream",
     "text": [
      "authors\n",
      "citations\n",
      "entities\n",
      "keywords\n",
      "ontology\n",
      "papers\n",
      "sentences\n",
      "sources\n",
      "synonyms\n"
     ]
    }
   ],
   "source": [
    "# Execute a query to get all table names\n",
    "tables = con.execute(\"SHOW TABLES\").fetchall()\n",
    "\n",
    "# Print the list of table names\n",
    "for table in tables:\n",
    "    print(table[0])"
   ]
  },
  {
   "cell_type": "code",
   "execution_count": 9,
   "metadata": {},
   "outputs": [],
   "source": [
    "# Get all sentences\n",
    "#result = con.execute(\"SELECT COUNT(*) FROM sentences\").fetchall()\n",
    "result = con.execute(\"SELECT sentence FROM sentences\").fetchdf()\n"
   ]
  },
  {
   "cell_type": "code",
   "execution_count": null,
   "metadata": {},
   "outputs": [
    {
     "data": {
      "text/html": [
       "<div>\n",
       "<style scoped>\n",
       "    .dataframe tbody tr th:only-of-type {\n",
       "        vertical-align: middle;\n",
       "    }\n",
       "\n",
       "    .dataframe tbody tr th {\n",
       "        vertical-align: top;\n",
       "    }\n",
       "\n",
       "    .dataframe thead th {\n",
       "        text-align: right;\n",
       "    }\n",
       "</style>\n",
       "<table border=\"1\" class=\"dataframe\">\n",
       "  <thead>\n",
       "    <tr style=\"text-align: right;\">\n",
       "      <th></th>\n",
       "      <th>sentence</th>\n",
       "    </tr>\n",
       "  </thead>\n",
       "  <tbody>\n",
       "    <tr>\n",
       "      <th>0</th>\n",
       "      <td>Examining interdependence between product user...</td>\n",
       "    </tr>\n",
       "    <tr>\n",
       "      <th>1</th>\n",
       "      <td>Abstract. Firm - sponsored online user communi...</td>\n",
       "    </tr>\n",
       "    <tr>\n",
       "      <th>2</th>\n",
       "      <td>Product users and host firm employees comprise...</td>\n",
       "    </tr>\n",
       "    <tr>\n",
       "      <th>3</th>\n",
       "      <td>The online user community provides a forum whe...</td>\n",
       "    </tr>\n",
       "    <tr>\n",
       "      <th>4</th>\n",
       "      <td>Extant research on online user communities has...</td>\n",
       "    </tr>\n",
       "    <tr>\n",
       "      <th>...</th>\n",
       "      <td>...</td>\n",
       "    </tr>\n",
       "    <tr>\n",
       "      <th>8316826</th>\n",
       "      <td>.012</td>\n",
       "    </tr>\n",
       "    <tr>\n",
       "      <th>8316827</th>\n",
       "      <td>.012</td>\n",
       "    </tr>\n",
       "    <tr>\n",
       "      <th>8316828</th>\n",
       "      <td>À.005</td>\n",
       "    </tr>\n",
       "    <tr>\n",
       "      <th>8316829</th>\n",
       "      <td>À.523 * *</td>\n",
       "    </tr>\n",
       "    <tr>\n",
       "      <th>8316830</th>\n",
       "      <td>Note :</td>\n",
       "    </tr>\n",
       "  </tbody>\n",
       "</table>\n",
       "<p>8316831 rows × 1 columns</p>\n",
       "</div>"
      ],
      "text/plain": [
       "                                                  sentence\n",
       "0        Examining interdependence between product user...\n",
       "1        Abstract. Firm - sponsored online user communi...\n",
       "2        Product users and host firm employees comprise...\n",
       "3        The online user community provides a forum whe...\n",
       "4        Extant research on online user communities has...\n",
       "...                                                    ...\n",
       "8316826                                              .012 \n",
       "8316827                                              .012 \n",
       "8316828                                             À.005 \n",
       "8316829                                         À.523 * * \n",
       "8316830                                            Note : \n",
       "\n",
       "[8316831 rows x 1 columns]"
      ]
     },
     "execution_count": 10,
     "metadata": {},
     "output_type": "execute_result"
    }
   ],
   "source": [
    "result"
   ]
  },
  {
   "cell_type": "code",
   "execution_count": 10,
   "metadata": {},
   "outputs": [],
   "source": [
    "#result.to_pickle(\"../resources/sentences_raw.pkl\")"
   ]
  },
  {
   "cell_type": "code",
   "execution_count": 11,
   "metadata": {},
   "outputs": [],
   "source": [
    "# Close the connection\n",
    "con.close()"
   ]
  },
  {
   "cell_type": "code",
   "execution_count": null,
   "metadata": {},
   "outputs": [],
   "source": []
  }
 ],
 "metadata": {
  "kernelspec": {
   "display_name": "Python 3",
   "language": "python",
   "name": "python3"
  },
  "language_info": {
   "codemirror_mode": {
    "name": "ipython",
    "version": 3
   },
   "file_extension": ".py",
   "mimetype": "text/x-python",
   "name": "python",
   "nbconvert_exporter": "python",
   "pygments_lexer": "ipython3",
   "version": "3.11.3"
  }
 },
 "nbformat": 4,
 "nbformat_minor": 2
}
