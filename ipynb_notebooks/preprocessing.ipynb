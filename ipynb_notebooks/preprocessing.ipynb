{
 "cells": [
  {
   "cell_type": "code",
   "execution_count": 1,
   "metadata": {},
   "outputs": [
    {
     "name": "stderr",
     "output_type": "stream",
     "text": [
      "c:\\Python311\\Lib\\site-packages\\numpy\\_distributor_init.py:30: UserWarning: loaded more than 1 DLL from .libs:\n",
      "c:\\Python311\\Lib\\site-packages\\numpy\\.libs\\libopenblas.FB5AE2TYXYH2IJRDKGDGQ3XBKLKTF43H.gfortran-win_amd64.dll\n",
      "c:\\Python311\\Lib\\site-packages\\numpy\\.libs\\libopenblas64__v0.3.21-gcc_10_3_0.dll\n",
      "c:\\Python311\\Lib\\site-packages\\numpy\\.libs\\libopenblas64__v0.3.23-gcc_10_3_0.dll\n",
      "  warnings.warn(\"loaded more than 1 DLL from .libs:\"\n"
     ]
    }
   ],
   "source": [
    "import os\n",
    "import pandas as pd\n",
    "import yaml"
   ]
  },
  {
   "cell_type": "code",
   "execution_count": 7,
   "metadata": {},
   "outputs": [],
   "source": [
    "def load_yaml_data(folder_path):\n",
    "    constructs_list = []\n",
    "    hypotheses_data = []\n",
    "\n",
    "    for file_name in os.listdir(folder_path):\n",
    "        if file_name.endswith('.yaml') or file_name.endswith('.yml'):\n",
    "            file_path = os.path.join(folder_path, file_name)\n",
    "\n",
    "            with open(file_path, 'r') as file:\n",
    "                yaml_content = yaml.safe_load(file)\n",
    "\n",
    "                # Extract constructs\n",
    "                constructs = yaml_content.get('constructs', {})\n",
    "                constructs_list.extend(constructs.values())\n",
    "\n",
    "                # Extract hypotheses\n",
    "                for hypothesis in yaml_content.get('hypotheses', {}).values():\n",
    "                    cause = constructs.get(hypothesis['cause'], '')\n",
    "                    effect = constructs.get(hypothesis['effect'], '')\n",
    "                    hypotheses_data.append({'cause': cause, 'effect': effect})\n",
    "\n",
    "    # Remove duplicates from constructs list\n",
    "    constructs_list = list(set(constructs_list))\n",
    "\n",
    "    # Create DataFrame for hypotheses\n",
    "    hypotheses_df = pd.DataFrame(hypotheses_data)\n",
    "\n",
    "    return constructs_list, hypotheses_df"
   ]
  },
  {
   "cell_type": "code",
   "execution_count": 24,
   "metadata": {},
   "outputs": [],
   "source": [
    "# Specify the folder path\n",
    "folder_path = '../true_results'\n",
    "\n",
    "# Load the data\n",
    "constructs, hypotheses_df = load_yaml_data(folder_path)"
   ]
  },
  {
   "cell_type": "code",
   "execution_count": 34,
   "metadata": {},
   "outputs": [
    {
     "name": "stdout",
     "output_type": "stream",
     "text": [
      "['Negative Affective Absorption', 'Participation in Electronic Commerce', 'FirmPerf', 'Price Premiums', 'Market discipline benefits', 'Institution- Based Trust', 'Customer service improved', 'Post-Adoptive System Use', 'Sector IT intensity', 'Perceived efford (R2=0.290)', 'Integration Services', 'Incentives', 'Affect', 'Relational Closeness with peer IT Employees', 'Conditional value (R2=0.070)', 'Mobile Information Protection Intention', 'Perceived Attractiveness of a Software Product', 'Information Intensity', 'Trust propensity', 'Turnaway Intention', 'Gender', 'Data_Integration', 'Personalized directories', 'IT Innovation Capability', 'End-User Demographics & Perceptions', 'Motives to adopt e-residency', 'Entrepeneurial intensity', 'Perceived Benefits of Compliance', 'Decision to Support', 'Trade-off difficulty (R2=0.016)', 'Human Images', 'Consumption Likelihood', 'Know-What: Education: H3: Level of Education', 'Perceived Costs of Non-Compliance', 'Mobile Privacy Concern', 'Coordination', 'Perceived Usefullness', 'Constructs', 'Motivation and Support', 'Trusting Beliefs', 'TPB', 'Photo Evaluation', 'Attitude towards Information Sharing', 'Future intention to visit R2=0.68/R2=0.69', 'External Variables', 'Operational performance', 'Abysmal credibility text comments', 'Dimensions of IT Mindfulness', 'cse-A', 'Product price', 'Trust between Members', 'Perceived Threat Vulnerability', 'Outstanding benevolence text comments', 'Self identity', 'Extent of knowledge sharing', 'Outstanding credibility text comments', 'Actual System Use', 'Application_Integration', 'Health Promoting Behavior', \"Business owners' responses\", 'Experimential Cues', 'Wealth Inequality', 'Other Antecedents (e.g., risk propensity)', 'RosettaNet adoption', \"IT Employee's Turnover Intention\", 'Know \"How to be\": Experience: H4: Effective Leadership', 'EB Value', 'Likelihood of repaying investment', 'Sociopolitical Change', '3 Implementation', 'Non-Task-Focused Discussion', 'Power Distance', 'Organizational Dimension High-Level Manager Support', 'Perceived Trade-off Transparency', 'Personal Characteristics and Abilities', 'Knowledge Integration Capability', 'Combined Ontological Completeness', 'Ontological Overlap', 'eWoM Message Framing', 'PEMs', 'Change_Orientation', 'Actual self- disclosure in', 'Duration & Type of Illness', 'Use of Recommendation Agent', 'Emotional Distress', 'Leadership Triad', 'Medication j', 'Openness to Novelty', 'ISI Decisions', 'Evaluability Bias', 'Existing organizational formalcontrols', 'Negative Affective Flow R2 = .476', 'Auction bids', 'Feedback Presence', 'Perceived Risk', 'Likelihood of receiving investment', 'IT department size', 'Perceived Sanction Severity', 'Information Quality', 'External Determinants', 'Information processing needs', 'Product-based personalization', 'Team Performance', 'Decisional Balance', 'Flexibility benefits', 'PE2', 'Time Pressure', 'cse1', 'Account', 'Task Behavior: Attention Association', 'Information Representation', 'OPCS', 'Prior Invasion Experience', 'Transaction costs with business partners decreased', 'Impact on Coordination', 'IT Mindfulness', 'Implicit information expectations on competing sites', 'Fairness Effect', 'Team Dispersion', 'Behavioral Intent', 'Role Values', 'EB Investment', 'CONTROL VARIABLES Structural, Managerial, Governance', 'Firm Size', 'Alertness to Distinction', '1 Scanning', 'Satisfaction with the use of Avatar (0.43)', 'Close to customers', 'Product Search Effectiveness', 'Satisfaction of Organization with IT Outsourcing', 'CIC', 'Offline Belief', 'System Quality', 'Impact on consumer satisfaction', 'Technologies of Interest', 'Risk beliefs', 'ICT Spending per GDP', 'Coordination with business partners or suppliers improved', 'Extroversion', 'Information Task Quality', 'Perceived Effectiveness', 'Medication i', 'Perceived Privacy Risk', 'Proactive Corporate Environmental Strategy (R2 = 0.123)', 'cse4', 'Time priority (reliability, speed)', 'Loan', 'Review manupulation', 'Behavioral Skills', 'Perceived Quality', 'Order', 'Involvement in Virtual Community', 'External subjective norm', 'Reactance to new ISP', 'Control Variables - Motivation - Community Formal Control - Community Tenure - Gender, Age', 'Organizational Readiness', 'Perceived Attributes of Innovations', 'Know-How: Expercience: H1: Job Tenure H2: Managerial Skills', 'The role of online reviews on consumer purchase', 'Perceived accuracy (R2=0.461)', 'Extent of Support', 'Awareness of Multiple Perspectives', 'International Entrepreneurial Orientation', 'Online Anonymity', 'Information sharing culture Willigness to share information Information distribution', 'Internal Determinants', 'Price Perception', 'Source Social Connectedness', 'Contextual Factor', 'Process_Orientation', 'EDGI level Income level', 'Staff productivity increased', 'Opinion Leadership', 'Disclosure Intention (R2=0.481)', 'Photo Elements', 'Perceived Benefit', 'Desires Congruency', 'Trying to Innovate', 'Industrial Infrastructure - Labor Force by Occupation (Agriculture, Industry, Service)', 'When to respond to consumer reviews', 'Critical Factors', 'Attitude toward anonymity (0.19) b', 'Decision Quality', 'Affective commitment High sacrifice Low alternatives', 'Positive Feedback', 'Context Collapse', 'Job Satisfaction', 'Mimesis', 'Expectations Disconfirmation', 'Risk (Risk Exposure)', 'Impact on Commerce', 'Disposition to Trust', 'SCM related operational performance', 'ASP', 'zeta', 'Past Behavior with Target IT', 'Business and Technology Investment', 'Enviromental Dimension Governmental Policies', 'Government Promotion and support Infrastructure', 'Perceived Informational Injustice', 'Unemployment', 'Health Information Privacy Concers', 'Appraisal', 'Overall Service Quality', '1: Agency Controls - Prior Pref. (+) - Agency Size (-) 2. FISMA Controls (+)', 'Source from domestic suppliers', 'Perceived Usefulness', 'Social Connections', 'Perceived Distributive Injustice', \"Source Characteristics Firm's Reputation (Study 3)\", 'Environmental Performance', 'Product Promotion Effectiveness', 'Donation information', 'Content Variance', 'Democratization', 'Perceived Ease-of-use', 'Change Strategy *Reconfigure Existing Resources *Acquire and Reconfigure Resources *Acquire Resources without Configuring *Business as Usual', 'Mobile Privacy Protection Self-Efficacy', 'ICT Investment', 'Probability of opening an e-mail', 'Firm Performance', 'Infrastructure Human Resource Globalization', 'Using the Prescribed Tools and Techniques', 'Theory of Planned Behavior (TPB)', 'Benevolence', 'COMPLEMENTARITY EDUCATION*R&D', 'Environment: Demant Unpredictability', 'Comprehensiveness of Usage (Past Behavior)', 'International Per- formance of Born- Global Firms - Strategic Perfor- mance - Financial Perfor- mance', 'Control Variable: Demand unpredictability, product turbulence, size, B2b supply chain integration x demand unpredictability, B2B supply chain integration x product turbulence, demand unpredictability x product turbulence', 'Customer / Market', 'Reactance proneness', 'Relational Closeness with peer non-IT Employees', 'Change in Project Cycle Time Project Cost Project Quality', 'Perceived reputation', 'Computer Self-Efficacy (CSE)', 'Globalization - International Trade Volume', 'Environment uncertainty', 'Technology Functionality', 'H1: Collective halo (Attribute-to-Attribute)', 'Horizontal and vertical boundaries', 'Deep Structure Usage', 'Attitude toward social presence (0.33)', 'Firm Factors', 'Quantity of Innovation Adoption DEPENDENT VARIABLES', 'Behavioral Intention to Use', 'Trust of Mobile Platform', 'Composite CSE (weighted sum/index)', 'Deep Structure Usage / Trying to Innovate', 'Developement of domain understanding', 'Orientation to the Present', 'Object Signification', 'Modeling Guidelines', 'Communication centrality', 'Message Characteristics Review Extremity (Study 2 & 3)', 'Actual Use', 'Expectations', 'Methods', 'Mobile Protection Settings Awareness', 'Customer Satisfaction with Website', 'Disclosure Value (R2=0.500)', 'Social Norm', 'Perceived organizational support', 'Human Resources - Human Development Index', 'Store Evalutation', 'Navigability', 'Number of Concurrent Projects Managed Firm Size Organizational IQ', 'Perceived Behavioral Control', 'Perceived Attractiveness of a Financial Reward', 'Interaction of Task and Technology (FIT or TTF)', 'Loyaltiy to the Community (0.84)', 'Online product reviews', 'Enviromental Factors', 'Impact on focal business performance', 'Self-Efficacy', 'Public Self-Awareness', 'Risk Responses with Mitigation Effects', 'Prior literature', 'Spillover effect of owner responses on nearby businesses', 'Risk Response Enactment', 'IT Quality Triad', 'Negative ratings', 'Source Expertise', 'Internal processes more efficient', 'Task Performance', \"IT Unit's Emerging IT Sense-making\", 'Improved Scheduling', 'Trust for Vendors', 'Intention', 'Professional Identification', 'Private Self-Awareness', 'System quality', 'Desires', 'Information Technology Application *Codify Knowledge *Create Network', 'Sales increased', 'Results', 'Socioeconomic Changes', 'Nature-scene- related versus Objects-related', 'Protection Motivation Theory (PMT)', 'Enjoyment', 'IT Capability - IT Business Partner- ships - External IT Linkages - Business Process Integration - IT Management - IT Infrastructure', 'Anthro- pomorphism', 'Perceived Interpersonal Injustice', 'Business Innovation Capability', 'Systematic Cures', 'cse2', 'Perceived Social Actor Function', 'E-Business Value', 'Learning Culture', 'Measures', 'Service Quality', 'Behavioral Intention', 'Intent to comply with new ISP', 'CS2', 'Ordinary comments', 'Privacy Concern', 'IT Job Entry', 'eWoM Message Credibility', 'Cost savings', 'Intention to Use', 'IT Quasi-Outsourcing', 'Addiction (Pathological)', 'Fit', 'Perceived external prestige', 'Control variables', 'Risk Perception', 'Blog Use', 'Quality Management Practices Implementation', 'Conceptual Modeling Context', 'New ISP mandatoriness', 'Security', 'Sell to domestic customers', 'Controls', 'Coercive', 'Perceived Ease of Use', 'Perceived Threat Severity', 'Mobile Information Protection (Behavior)', 'Task Characteristics Opportunity to reuse query', 'Ability to Adopt - M-health Self-Efficacy - Information Seeking Experience', 'Location Disclosure on LB-SNA', 'cse-B', 'Intention of RFID Adoption', 'Conceptual Model Combination', 'Consumer characteristics Prior purchase', 'Cognition*', 'Social Performance', 'Quality-Price Weighting', 'Trust', 'Information Security Policy Compliance R2 = .079', 'Intentions to Use a Community Municipal Portal', 'International sales increased', 'Economic/Financial Performance', 'Perceived System Performance', 'Responce Efficacy', 'Similar ISP exists', 'Prior domain knowledge', 'Knowledge Management Strategy *Creation *Transfer *Protection', \"IT Employee's Organizational Identification\", 'CTC', 'Autonomy Propensity to use IT Team Size Co-location Project Duration', 'eWoM Message Consistency', 'EB Usage', 'Shared understanding', 'Medication Adherence', 'Action readiness', 'Download speed', 'Platform Suppliers', 'Mission information', 'Interaction of Technology and CSE (CSET Fit)', 'CS1', 'Threat to freedom from new ISP', 'PE1', 'Purchase Intention', 'CSPC', 'Proximal Causes of Post-Adoptive Usage', 'Competencies', 'Financial information', 'Spreadsheet Self-efficacy', 'Affective Commitment to Profession', 'Preventive Behavior', \"IT Unit's Emerging IT Sensing\", \"IT Unit's Learning-on-the-fly support through Digitization\", 'Age', 'Patron Black Box', 'Adoption of User Innovation', 'Firm Performance (R2 = 0.262)', 'Use of Target IT', 'High Engagement (Non-pathological)', 'Work Situations & Context', 'cse6', 'Facilitating Conditions', 'User-generated feedback', 'Performance: Financial Market Operational', 'Data Model Characteristics Domain', 'M-health Adoption Intention', 'Positive ratings', '4 Customer Value', 'Tool x Time Pressure Interaction', 'Technology Description', 'Attitude Toward Specific Information Security Policy', 'Punishments', 'Pragmatic boundary', 'Sales area widened', 'Embodied Group Identity', 'Time Spent Per-day (Past Behavior)', 'Knowledge Process Capability', 'Sourcing mode', 'Post-Adoptive Usage', 'Visual aesthetics', 'Enviroment Competitive pressure Expectations of market trends', 'Impact on Internal Efficiency', 'IT work experience', 'Disposition', 'Control variable Frequency of e-mails Prior response', 'Semantic boundary', 'Supply-side', 'Performance Query performance * accuracy * time * confidence * prediction', 'Perceived Risks in Electronic Commerce', 'Residual Risk', 'Eye tracking and verbal protocol analysis', 'Privacy Self- efficacy', 'Trust in Functionality', 'Continuance Intention', 'FITIC', 'Arousal', 'Organizational_Absortive_ Capacity', 'Information Context Variance in Other Reviews (Study 2)', 'Regulation processes', 'EDUCATION', 'Trust centrality', 'Quality Signals', 'Customer', 'Event', 'Goverment Support, Legal Framework, Social Openness', 'Heuristic Cues', 'Motivation', 'Outsourced Services', 'Tie strength', 'H5: IT Budget', 'Competitive_Advantage', 'Internal Operation', 'Specialization benefits', 'Ambiguity', 'Project Perfomance', \"Change Agents' Promotion Efforts\", 'Perceived control (R2=0.297)', 'Attitude toward LB-SNA', 'Reciprocity', 'Offline-online Differences', 'Applying formal risk managment practices', 'Percieved Ease of Use', 'Environment: Production Turbulence', 'Univ. Support', 'Intra-team Procedural Justice Climate', 'Financial Perfomance', 'Three-way Interaction', 'Socioeconomic Level', 'Awareness Signals', 'Transactive memory', 'Common Ground', '2 Matching', 'Dynamic Interaction', 'Habit', 'Overall Satisfaction', 'PE9', 'Training_Orientation', 'Business-IT Alignment', 'Insitutional envirment (Germany)', 'Enviromental Uncertainty', 'IT Capability', 'Strategic Planning', 'Attitude towards website R2=0.74/R2=0.75', 'Prominence', 'Unplanned Purchase', 'Our study', 'Perceived Cons', 'Self-Congruity Perspectives', 'Fear', 'IT Security Performance Measurment of The US Federal Agencies', 'Willingness to disclose', 'Functional-Congruity Perspectives', 'Norms', 'Perceived Pros', 'Intention to Use Target IT', 'Perceived ease of use', 'IT capabilities', 'Information about the organization Competitive pay', \"IT Unit's Improvisation support through: a. Knowledge sharing b. Technology standardization\", 'Situational Temptation', 'Medication k', 'Characteristics of PACS Benefits of PACS', 'Task nature', 'Trusting Intention', 'ISI Outcomes', 'Perceived Medium Function', 'Socio-economic Changes - Economic Freedom - Unemployment', 'Foreigner Status', 'Behaviors', 'Selection of model combination', 'Sales', 'Talent Development Practices Implementation', 'User Characteristics Domain familiarity', 'IS_Integration', 'Trust beliefs', 'CS12', 'Arousal (A) Authenticity (C) Utility (C)', 'Deep Learning Caffe', 'eWoM Message Adoption', 'Task Characteristics', 'Leadership', 'Network stability', 'Interpretation', 'International Marketing Orientation', 'Flexibility_Orientation', 'Nearby suppliers', 'Usage Intention', 'Gender Age Year EU citizenship', 'PERFORMANCE', 'cse5', 'Relative Advantage', 'Attitude Towards Using', 'Negative Feedback', 'Knowledge Type *Explict *Tacit', 'ISP apathy', 'Economic Freedom', 'Abysmal benevolence text comments', 'Syntactic boundary', 'Trust R2 = 0.193', 'Perceived Sanction Probability', 'Tendency to social comparison', 'Socio-political Changes - Wealth Inequality - Political Freedom', 'IT Resource Usage', 'Perceived Reliability', 'Telecom', 'Codified directories', 'Technology Utilization', 'Adoption of PACS', 'Performance: - Effectiveness - Efficiency', \"Control Variables Gender, Age, Frequency of visit of charity websites, Prior donation behaviors, Involvement with child relief issues, Attitude toward online donation, Web skills, Importance of charity's reputation\", 'Subjective Norms', 'Reminders', 'Source Trustworthiness', 'cse-C', 'Intention to Use a Website', 'Social Innovation Capability', 'Organizational Factors & Portal Interface Characteristics', 'Image Appeal R2 = 0.03', 'Memorability', 'Rewards/Costs', 'Perceived Costs of Compliance', 'Quantity of the \"Right Stuff\" (Innovator Profile) INDPENDENT VARIABLES', 'B2B Supply Chain', 'Performance', 'CSE', 'Demand-side', 'IT activity asset specificity', 'Rational Choice Theory (RCT)', 'Argument Quality', 'Credibility', 'Boundary Spanning Activities', 'Positive Social Situations', 'ISP', 'Interface Usage', 'Perceived Enjoyment', 'Internal CSE', 'Perceived Benefits in Virtual Community', 'Perceived Helpfulness of the eWoM Message', 'Transaction', 'Compatibility', 'Starting Salary', 'Process Capabilities Consistency Leverage Relevance', 'Interface Preference', 'Website Design Knowledge', 'Organization Tope mangement support Organization size Technical and Financial Feasibility', 'Perceived Tool Function ', 'Implicit information expectations', 'Perceived usefulness', 'Group Norm Conformity', 'Information content quality', 'Perceived Social Presence R2 = 0.05', 'Information', 'Innovation Compatibility Complexity Trialability Relative Advantage Observability', 'Attitude', 'Past experience', 'Organizational Performance', 'Satisfaction with Profession', 'Opportunities for growth Manager practices', 'Control Variables', \"Firms' Highlighting Practice (Study 1, 2 & 3)\", 'Turnover intentions', 'Pacing: - Earliness - Steadiness', 'cse3', 'AIS Support', 'Crowdsourcing Mturk', 'Tool', 'Homophily', 'Multiple Technologies', 'Perceived Performance', 'Intentions to use RAs(R2=0.270)', 'Task-Oriented Communication During Action Episodes', 'BusFlex', 'eWoM Message Quality', 'Technology-Enabled Communication Awareness', 'System Characteristics Controlled', 'IOR Partner power Relationship commitment Trust in Trading partner Transaction frequency', 'Information processing capacity', 'Threat', 'IT internal organization (profit center)', 'Escalation of Commitment to a Software Product Developement Project', 'Individual performance', 'Feedback text comments', 'Organisational Learing Orientation', 'Perceived usefulness R2=0.55/R2=0.57', 'Explicit information expectations', 'Perceived Website Socialness', 'Net Benefits', 'Distal Causes of Post-Adoptive Usage', 'Deterrence Theory (DT)', 'Relational Investment']\n",
      "Unique constructs: 619\n"
     ]
    }
   ],
   "source": [
    "# Remove empty elements from constructs list\n",
    "constructs = [construct for construct in constructs if construct]\n",
    "print(constructs)\n",
    "print(\"Unique constructs: \" + str(len(constructs)))\n"
   ]
  },
  {
   "cell_type": "code",
   "execution_count": 12,
   "metadata": {},
   "outputs": [
    {
     "data": {
      "text/html": [
       "<div>\n",
       "<style scoped>\n",
       "    .dataframe tbody tr th:only-of-type {\n",
       "        vertical-align: middle;\n",
       "    }\n",
       "\n",
       "    .dataframe tbody tr th {\n",
       "        vertical-align: top;\n",
       "    }\n",
       "\n",
       "    .dataframe thead th {\n",
       "        text-align: right;\n",
       "    }\n",
       "</style>\n",
       "<table border=\"1\" class=\"dataframe\">\n",
       "  <thead>\n",
       "    <tr style=\"text-align: right;\">\n",
       "      <th></th>\n",
       "      <th>cause</th>\n",
       "      <th>effect</th>\n",
       "    </tr>\n",
       "  </thead>\n",
       "  <tbody>\n",
       "    <tr>\n",
       "      <th>0</th>\n",
       "      <td>FITIC</td>\n",
       "      <td>Firm Performance</td>\n",
       "    </tr>\n",
       "    <tr>\n",
       "      <th>1</th>\n",
       "      <td>Business Innovation Capability</td>\n",
       "      <td>FITIC</td>\n",
       "    </tr>\n",
       "    <tr>\n",
       "      <th>2</th>\n",
       "      <td>IT Innovation Capability</td>\n",
       "      <td>FITIC</td>\n",
       "    </tr>\n",
       "    <tr>\n",
       "      <th>3</th>\n",
       "      <td>Social Innovation Capability</td>\n",
       "      <td>FITIC</td>\n",
       "    </tr>\n",
       "    <tr>\n",
       "      <th>4</th>\n",
       "      <td>Economic/Financial Performance</td>\n",
       "      <td>Firm Performance</td>\n",
       "    </tr>\n",
       "    <tr>\n",
       "      <th>...</th>\n",
       "      <td>...</td>\n",
       "      <td>...</td>\n",
       "    </tr>\n",
       "    <tr>\n",
       "      <th>576</th>\n",
       "      <td>Trust between Members</td>\n",
       "      <td>Trust for Vendors</td>\n",
       "    </tr>\n",
       "    <tr>\n",
       "      <th>577</th>\n",
       "      <td>Trust for Vendors</td>\n",
       "      <td>Perceived Risks in Electronic Commerce</td>\n",
       "    </tr>\n",
       "    <tr>\n",
       "      <th>578</th>\n",
       "      <td>Trust between Members</td>\n",
       "      <td>Perceived Risks in Electronic Commerce</td>\n",
       "    </tr>\n",
       "    <tr>\n",
       "      <th>579</th>\n",
       "      <td>Perceived Benefits in Virtual Community</td>\n",
       "      <td>Participation in Electronic Commerce</td>\n",
       "    </tr>\n",
       "    <tr>\n",
       "      <th>580</th>\n",
       "      <td>Perceived Risks in Electronic Commerce</td>\n",
       "      <td>Participation in Electronic Commerce</td>\n",
       "    </tr>\n",
       "  </tbody>\n",
       "</table>\n",
       "<p>581 rows × 2 columns</p>\n",
       "</div>"
      ],
      "text/plain": [
       "                                       cause   \n",
       "0                                      FITIC  \\\n",
       "1             Business Innovation Capability   \n",
       "2                   IT Innovation Capability   \n",
       "3               Social Innovation Capability   \n",
       "4             Economic/Financial Performance   \n",
       "..                                       ...   \n",
       "576                    Trust between Members   \n",
       "577                        Trust for Vendors   \n",
       "578                    Trust between Members   \n",
       "579  Perceived Benefits in Virtual Community   \n",
       "580   Perceived Risks in Electronic Commerce   \n",
       "\n",
       "                                     effect  \n",
       "0                          Firm Performance  \n",
       "1                                     FITIC  \n",
       "2                                     FITIC  \n",
       "3                                     FITIC  \n",
       "4                          Firm Performance  \n",
       "..                                      ...  \n",
       "576                       Trust for Vendors  \n",
       "577  Perceived Risks in Electronic Commerce  \n",
       "578  Perceived Risks in Electronic Commerce  \n",
       "579    Participation in Electronic Commerce  \n",
       "580    Participation in Electronic Commerce  \n",
       "\n",
       "[581 rows x 2 columns]"
      ]
     },
     "execution_count": 12,
     "metadata": {},
     "output_type": "execute_result"
    }
   ],
   "source": [
    "hypotheses_df"
   ]
  }
 ],
 "metadata": {
  "kernelspec": {
   "display_name": "Python 3",
   "language": "python",
   "name": "python3"
  },
  "language_info": {
   "codemirror_mode": {
    "name": "ipython",
    "version": 3
   },
   "file_extension": ".py",
   "mimetype": "text/x-python",
   "name": "python",
   "nbconvert_exporter": "python",
   "pygments_lexer": "ipython3",
   "version": "3.11.3"
  }
 },
 "nbformat": 4,
 "nbformat_minor": 2
}
