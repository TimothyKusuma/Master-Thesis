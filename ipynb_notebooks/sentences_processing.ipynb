{
 "cells": [
  {
   "cell_type": "code",
   "execution_count": 1,
   "metadata": {},
   "outputs": [
    {
     "name": "stderr",
     "output_type": "stream",
     "text": [
      "/home/roland/Projects/vananh/.conda/lib/python3.11/site-packages/tqdm/auto.py:21: TqdmWarning: IProgress not found. Please update jupyter and ipywidgets. See https://ipywidgets.readthedocs.io/en/stable/user_install.html\n",
      "  from .autonotebook import tqdm as notebook_tqdm\n",
      "None of PyTorch, TensorFlow >= 2.0, or Flax have been found. Models won't be available and only tokenizers, configuration and file/data utilities can be used.\n"
     ]
    }
   ],
   "source": [
    "import pandas as pd"
   ]
  },
  {
   "cell_type": "code",
   "execution_count": 2,
   "metadata": {},
   "outputs": [],
   "source": [
    "sentences_raw = pd.read_pickle(\"../resources/sentences_raw.pkl\")"
   ]
  },
  {
   "cell_type": "code",
   "execution_count": 3,
   "metadata": {},
   "outputs": [
    {
     "data": {
      "text/html": [
       "<div>\n",
       "<style scoped>\n",
       "    .dataframe tbody tr th:only-of-type {\n",
       "        vertical-align: middle;\n",
       "    }\n",
       "\n",
       "    .dataframe tbody tr th {\n",
       "        vertical-align: top;\n",
       "    }\n",
       "\n",
       "    .dataframe thead th {\n",
       "        text-align: right;\n",
       "    }\n",
       "</style>\n",
       "<table border=\"1\" class=\"dataframe\">\n",
       "  <thead>\n",
       "    <tr style=\"text-align: right;\">\n",
       "      <th></th>\n",
       "      <th>sentence</th>\n",
       "    </tr>\n",
       "  </thead>\n",
       "  <tbody>\n",
       "    <tr>\n",
       "      <th>0</th>\n",
       "      <td>Examining interdependence between product user...</td>\n",
       "    </tr>\n",
       "    <tr>\n",
       "      <th>1</th>\n",
       "      <td>Abstract. Firm - sponsored online user communi...</td>\n",
       "    </tr>\n",
       "    <tr>\n",
       "      <th>2</th>\n",
       "      <td>Product users and host firm employees comprise...</td>\n",
       "    </tr>\n",
       "    <tr>\n",
       "      <th>3</th>\n",
       "      <td>The online user community provides a forum whe...</td>\n",
       "    </tr>\n",
       "    <tr>\n",
       "      <th>4</th>\n",
       "      <td>Extant research on online user communities has...</td>\n",
       "    </tr>\n",
       "    <tr>\n",
       "      <th>...</th>\n",
       "      <td>...</td>\n",
       "    </tr>\n",
       "    <tr>\n",
       "      <th>20163530</th>\n",
       "      <td>.012</td>\n",
       "    </tr>\n",
       "    <tr>\n",
       "      <th>20163531</th>\n",
       "      <td>.012</td>\n",
       "    </tr>\n",
       "    <tr>\n",
       "      <th>20163532</th>\n",
       "      <td>À.005</td>\n",
       "    </tr>\n",
       "    <tr>\n",
       "      <th>20163533</th>\n",
       "      <td>À.523 * *</td>\n",
       "    </tr>\n",
       "    <tr>\n",
       "      <th>20163534</th>\n",
       "      <td>Note :</td>\n",
       "    </tr>\n",
       "  </tbody>\n",
       "</table>\n",
       "<p>20163535 rows × 1 columns</p>\n",
       "</div>"
      ],
      "text/plain": [
       "                                                   sentence\n",
       "0         Examining interdependence between product user...\n",
       "1         Abstract. Firm - sponsored online user communi...\n",
       "2         Product users and host firm employees comprise...\n",
       "3         The online user community provides a forum whe...\n",
       "4         Extant research on online user communities has...\n",
       "...                                                     ...\n",
       "20163530                                              .012 \n",
       "20163531                                              .012 \n",
       "20163532                                             À.005 \n",
       "20163533                                         À.523 * * \n",
       "20163534                                            Note : \n",
       "\n",
       "[20163535 rows x 1 columns]"
      ]
     },
     "execution_count": 3,
     "metadata": {},
     "output_type": "execute_result"
    }
   ],
   "source": [
    "sentences_raw"
   ]
  },
  {
   "cell_type": "code",
   "execution_count": 4,
   "metadata": {},
   "outputs": [],
   "source": [
    "# Drop rows where the length of the string in is less than 10\n",
    "sentences = sentences_raw[sentences_raw['sentence'].apply(lambda x: len(x) >= 20)]"
   ]
  },
  {
   "cell_type": "code",
   "execution_count": 5,
   "metadata": {},
   "outputs": [
    {
     "data": {
      "text/html": [
       "<div>\n",
       "<style scoped>\n",
       "    .dataframe tbody tr th:only-of-type {\n",
       "        vertical-align: middle;\n",
       "    }\n",
       "\n",
       "    .dataframe tbody tr th {\n",
       "        vertical-align: top;\n",
       "    }\n",
       "\n",
       "    .dataframe thead th {\n",
       "        text-align: right;\n",
       "    }\n",
       "</style>\n",
       "<table border=\"1\" class=\"dataframe\">\n",
       "  <thead>\n",
       "    <tr style=\"text-align: right;\">\n",
       "      <th></th>\n",
       "      <th>sentence</th>\n",
       "    </tr>\n",
       "  </thead>\n",
       "  <tbody>\n",
       "    <tr>\n",
       "      <th>0</th>\n",
       "      <td>Examining interdependence between product user...</td>\n",
       "    </tr>\n",
       "    <tr>\n",
       "      <th>1</th>\n",
       "      <td>Abstract. Firm - sponsored online user communi...</td>\n",
       "    </tr>\n",
       "    <tr>\n",
       "      <th>2</th>\n",
       "      <td>Product users and host firm employees comprise...</td>\n",
       "    </tr>\n",
       "    <tr>\n",
       "      <th>3</th>\n",
       "      <td>The online user community provides a forum whe...</td>\n",
       "    </tr>\n",
       "    <tr>\n",
       "      <th>4</th>\n",
       "      <td>Extant research on online user communities has...</td>\n",
       "    </tr>\n",
       "    <tr>\n",
       "      <th>...</th>\n",
       "      <td>...</td>\n",
       "    </tr>\n",
       "    <tr>\n",
       "      <th>20163493</th>\n",
       "      <td>Buyer dependence ( F4 )</td>\n",
       "    </tr>\n",
       "    <tr>\n",
       "      <th>20163501</th>\n",
       "      <td>Environmental uncertainty ( F5 )</td>\n",
       "    </tr>\n",
       "    <tr>\n",
       "      <th>20163509</th>\n",
       "      <td>Relational performance ( F6 )</td>\n",
       "    </tr>\n",
       "    <tr>\n",
       "      <th>20163517</th>\n",
       "      <td>Context of culture ( V1 )</td>\n",
       "    </tr>\n",
       "    <tr>\n",
       "      <th>20163526</th>\n",
       "      <td>Cultural distance ( V2 )</td>\n",
       "    </tr>\n",
       "  </tbody>\n",
       "</table>\n",
       "<p>14545661 rows × 1 columns</p>\n",
       "</div>"
      ],
      "text/plain": [
       "                                                   sentence\n",
       "0         Examining interdependence between product user...\n",
       "1         Abstract. Firm - sponsored online user communi...\n",
       "2         Product users and host firm employees comprise...\n",
       "3         The online user community provides a forum whe...\n",
       "4         Extant research on online user communities has...\n",
       "...                                                     ...\n",
       "20163493                           Buyer dependence ( F4 ) \n",
       "20163501                  Environmental uncertainty ( F5 ) \n",
       "20163509                     Relational performance ( F6 ) \n",
       "20163517                         Context of culture ( V1 ) \n",
       "20163526                          Cultural distance ( V2 ) \n",
       "\n",
       "[14545661 rows x 1 columns]"
      ]
     },
     "execution_count": 5,
     "metadata": {},
     "output_type": "execute_result"
    }
   ],
   "source": [
    "sentences"
   ]
  },
  {
   "cell_type": "code",
   "execution_count": 7,
   "metadata": {},
   "outputs": [
    {
     "name": "stderr",
     "output_type": "stream",
     "text": [
      "/tmp/ipykernel_2343736/3607740524.py:2: SettingWithCopyWarning: \n",
      "A value is trying to be set on a copy of a slice from a DataFrame.\n",
      "Try using .loc[row_indexer,col_indexer] = value instead\n",
      "\n",
      "See the caveats in the documentation: https://pandas.pydata.org/pandas-docs/stable/user_guide/indexing.html#returning-a-view-versus-a-copy\n",
      "  sentences['sentence'] = sentences['sentence'].str.replace('[^\\w\\s]', '', regex=True)\n",
      "/tmp/ipykernel_2343736/3607740524.py:3: SettingWithCopyWarning: \n",
      "A value is trying to be set on a copy of a slice from a DataFrame.\n",
      "Try using .loc[row_indexer,col_indexer] = value instead\n",
      "\n",
      "See the caveats in the documentation: https://pandas.pydata.org/pandas-docs/stable/user_guide/indexing.html#returning-a-view-versus-a-copy\n",
      "  sentences['sentence'] = sentences['sentence'].str.lower()\n",
      "/tmp/ipykernel_2343736/3607740524.py:4: SettingWithCopyWarning: \n",
      "A value is trying to be set on a copy of a slice from a DataFrame.\n",
      "Try using .loc[row_indexer,col_indexer] = value instead\n",
      "\n",
      "See the caveats in the documentation: https://pandas.pydata.org/pandas-docs/stable/user_guide/indexing.html#returning-a-view-versus-a-copy\n",
      "  sentences['sentence'] = sentences['sentence'].str.strip()\n"
     ]
    }
   ],
   "source": [
    "#sentences['sentence'] = sentences['sentence'].str.replace(r\"[^a-zA-Z0-9]\", \" \")\n",
    "sentences['sentence'] = sentences['sentence'].str.replace('[^\\w\\s]', '', regex=True)\n",
    "sentences['sentence'] = sentences['sentence'].str.lower()\n",
    "sentences['sentence'] = sentences['sentence'].str.strip()"
   ]
  },
  {
   "cell_type": "code",
   "execution_count": 8,
   "metadata": {},
   "outputs": [],
   "source": [
    "sentences.to_pickle(\"../resources/sentences_clean.pkl\")"
   ]
  }
 ],
 "metadata": {
  "kernelspec": {
   "display_name": "Python 3",
   "language": "python",
   "name": "python3"
  },
  "language_info": {
   "codemirror_mode": {
    "name": "ipython",
    "version": 3
   },
   "file_extension": ".py",
   "mimetype": "text/x-python",
   "name": "python",
   "nbconvert_exporter": "python",
   "pygments_lexer": "ipython3",
   "version": "3.11.5"
  }
 },
 "nbformat": 4,
 "nbformat_minor": 2
}
