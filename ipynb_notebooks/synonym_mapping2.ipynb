{
 "cells": [
  {
   "cell_type": "code",
   "execution_count": 1,
   "metadata": {},
   "outputs": [
    {
     "name": "stderr",
     "output_type": "stream",
     "text": [
      "/home/roland/Projects/vananh/.conda/lib/python3.11/site-packages/tqdm/auto.py:21: TqdmWarning: IProgress not found. Please update jupyter and ipywidgets. See https://ipywidgets.readthedocs.io/en/stable/user_install.html\n",
      "  from .autonotebook import tqdm as notebook_tqdm\n",
      "Downloading model.safetensors: 100%|██████████| 268M/268M [00:02<00:00, 104MB/s]  \n"
     ]
    }
   ],
   "source": [
    "from gensim.models import Word2Vec, KeyedVectors\n",
    "from nltk.corpus import stopwords\n",
    "from nltk.tokenize import word_tokenize\n",
    "from sklearn.metrics.pairwise import cosine_similarity\n",
    "from transformers import DistilBertModel, DistilBertTokenizer\n",
    "import Levenshtein as lev\n",
    "import numpy as np\n",
    "import os\n",
    "import pandas as pd\n",
    "import re\n",
    "import torch\n",
    "import yaml"
   ]
  },
  {
   "cell_type": "code",
   "execution_count": null,
   "metadata": {},
   "outputs": [],
   "source": [
    "# Load pre-trained model tokenizer (vocabulary)\n",
    "tokenizer = DistilBertTokenizer.from_pretrained('distilbert-base-uncased')\n",
    "\n",
    "# Load pre-trained model (weights)\n",
    "model = DistilBertModel.from_pretrained('distilbert-base-uncased')"
   ]
  },
  {
   "cell_type": "code",
   "execution_count": null,
   "metadata": {},
   "outputs": [],
   "source": [
    "# Load previously saved embeddings\n",
    "embeddings = np.load('../resources/sentence_embeddings.npy')"
   ]
  },
  {
   "cell_type": "code",
   "execution_count": null,
   "metadata": {},
   "outputs": [],
   "source": [
    "def load_yaml_data(folder_path):\n",
    "    constructs_list = []\n",
    "    hypotheses_data = []\n",
    "\n",
    "    for file_name in os.listdir(folder_path):\n",
    "        if file_name.endswith('.yaml') or file_name.endswith('.yml'):\n",
    "            file_path = os.path.join(folder_path, file_name)\n",
    "\n",
    "            with open(file_path, 'r') as file:\n",
    "                yaml_content = yaml.safe_load(file)\n",
    "\n",
    "                # Extract constructs\n",
    "                constructs = yaml_content.get('constructs', {})\n",
    "                constructs_list.extend(constructs.values())\n",
    "\n",
    "                # Extract hypotheses\n",
    "                for hypothesis in yaml_content.get('hypotheses', {}).values():\n",
    "                    cause = constructs.get(hypothesis['cause'], '')\n",
    "                    effect = constructs.get(hypothesis['effect'], '')\n",
    "                    hypotheses_data.append({'cause': cause, 'effect': effect})\n",
    "\n",
    "    # Remove duplicates from constructs list\n",
    "    constructs_list = list(set(constructs_list))\n",
    "\n",
    "    # Create DataFrame for hypotheses\n",
    "    hypotheses_df = pd.DataFrame(hypotheses_data)\n",
    "\n",
    "    return constructs_list, hypotheses_df"
   ]
  },
  {
   "cell_type": "code",
   "execution_count": null,
   "metadata": {},
   "outputs": [],
   "source": [
    "# Specify the folder path\n",
    "folder_path = '../true_results'\n",
    "\n",
    "# Load the constructs and hypotheses\n",
    "constructs, hypotheses_df = load_yaml_data(folder_path)"
   ]
  },
  {
   "cell_type": "code",
   "execution_count": null,
   "metadata": {},
   "outputs": [],
   "source": [
    "# Remove empty elements from constructs list\n",
    "constructs = [construct for construct in constructs if construct]\n",
    "print(constructs)\n",
    "print(\"Unique constructs: \" + str(len(constructs)))"
   ]
  },
  {
   "cell_type": "code",
   "execution_count": null,
   "metadata": {},
   "outputs": [],
   "source": [
    "hypotheses_df"
   ]
  },
  {
   "cell_type": "code",
   "execution_count": null,
   "metadata": {},
   "outputs": [],
   "source": [
    "# Cleaning function for construct terms\n",
    "def clean_terms(terms):\n",
    "    cleaned_terms = []\n",
    "    for term in terms:\n",
    "        # Lowercasing\n",
    "        term = term.lower()\n",
    "        # Removing special characters (preserving spaces)\n",
    "        term = re.sub(r'[^\\w\\s]', '', term)\n",
    "        cleaned_terms.append(term)\n",
    "    return cleaned_terms\n",
    "\n",
    "# Cleaning the lists\n",
    "cleaned_constructs = clean_terms(constructs)\n",
    "\n",
    "# Print cleaned data\n",
    "print(\"Cleaned Constructs:\", cleaned_constructs)"
   ]
  },
  {
   "cell_type": "code",
   "execution_count": null,
   "metadata": {},
   "outputs": [],
   "source": [
    "# Tokenize new terms\n",
    "tokenized_constructs = [tokenizer.encode(term, add_special_tokens=True) for term in cleaned_constructs]\n",
    "\n",
    "# Pad the tokenized sentences\n",
    "max_len_new_terms = max([len(term) for term in tokenized_constructs])\n",
    "padded_new_terms = np.array([term + [0]*(max_len_new_terms-len(term)) for term in tokenized_constructs])\n",
    "\n",
    "# Create attention masks for new terms\n",
    "attention_mask_new_terms = np.where(padded_new_terms != 0, 1, 0)\n",
    "\n",
    "# Convert to tensors\n",
    "input_ids_new_terms = torch.tensor(padded_new_terms)  \n",
    "attention_mask_new_terms = torch.tensor(attention_mask_new_terms)\n"
   ]
  },
  {
   "cell_type": "code",
   "execution_count": null,
   "metadata": {},
   "outputs": [],
   "source": [
    "# Get embeddings for constructs\n",
    "with torch.no_grad():\n",
    "    last_hidden_states_new_terms = model(input_ids_new_terms, attention_mask=attention_mask_new_terms)\n",
    "\n",
    "embeddings_constructs = last_hidden_states_new_terms[0][:,0,:].numpy()\n"
   ]
  },
  {
   "cell_type": "code",
   "execution_count": null,
   "metadata": {},
   "outputs": [],
   "source": [
    "# Calculate cosine similarities within new constructs\n",
    "similarities = cosine_similarity(embeddings_constructs, embeddings_constructs)"
   ]
  },
  {
   "cell_type": "code",
   "execution_count": null,
   "metadata": {},
   "outputs": [],
   "source": [
    "for i, term in enumerate(cleaned_constructs):\n",
    "    # Sort the similarities, ignore the first one as it is the term itself\n",
    "    sorted_indices = np.argsort(similarities[i])[::-1][1:]\n",
    "\n",
    "    print(f\"Term: {term}\")\n",
    "    print(\"Most similar terms within new_terms:\")\n",
    "    for idx in sorted_indices:\n",
    "        # Avoid comparing the term with itself\n",
    "        if idx == i:\n",
    "            continue\n",
    "\n",
    "        similar_term = cleaned_constructs[idx]\n",
    "        score = similarities[i][idx]\n",
    "        print(f\" - {similar_term} (Score: {score:.4f})\")\n",
    "        # You can limit the number of similar terms shown, e.g., top 3\n",
    "        # if idx >= 3:\n",
    "        #     break\n",
    "    print(\"\\n\")\n"
   ]
  }
 ],
 "metadata": {
  "kernelspec": {
   "display_name": "Python 3",
   "language": "python",
   "name": "python3"
  },
  "language_info": {
   "codemirror_mode": {
    "name": "ipython",
    "version": 3
   },
   "file_extension": ".py",
   "mimetype": "text/x-python",
   "name": "python",
   "nbconvert_exporter": "python",
   "pygments_lexer": "ipython3",
   "version": "3.11.5"
  }
 },
 "nbformat": 4,
 "nbformat_minor": 2
}
