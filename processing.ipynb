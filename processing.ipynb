{
 "cells": [
  {
   "cell_type": "code",
   "execution_count": 8,
   "metadata": {},
   "outputs": [],
   "source": [
    "import os\n",
    "import pandas as pd\n",
    "import yaml"
   ]
  },
  {
   "cell_type": "code",
   "execution_count": 7,
   "metadata": {},
   "outputs": [
    {
     "name": "stdout",
     "output_type": "stream",
     "text": [
      "Collecting pyyaml\n",
      "  Obtaining dependency information for pyyaml from https://files.pythonhosted.org/packages/b3/34/65bb4b2d7908044963ebf614fe0fdb080773fc7030d7e39c8d3eddcd4257/PyYAML-6.0.1-cp311-cp311-win_amd64.whl.metadata\n",
      "  Downloading PyYAML-6.0.1-cp311-cp311-win_amd64.whl.metadata (2.1 kB)\n",
      "Downloading PyYAML-6.0.1-cp311-cp311-win_amd64.whl (144 kB)\n",
      "   ---------------------------------------- 0.0/144.7 kB ? eta -:--:--\n",
      "   -- ------------------------------------- 10.2/144.7 kB ? eta -:--:--\n",
      "   -------- ------------------------------ 30.7/144.7 kB 660.6 kB/s eta 0:00:01\n",
      "   ---------------------------------------- 144.7/144.7 kB 1.7 MB/s eta 0:00:00\n",
      "Installing collected packages: pyyaml\n",
      "Successfully installed pyyaml-6.0.1\n"
     ]
    },
    {
     "name": "stderr",
     "output_type": "stream",
     "text": [
      "\n",
      "[notice] A new release of pip is available: 23.2.1 -> 23.3.1\n",
      "[notice] To update, run: C:\\Users\\de129790\\AppData\\Local\\Microsoft\\WindowsApps\\PythonSoftwareFoundation.Python.3.11_qbz5n2kfra8p0\\python.exe -m pip install --upgrade pip\n"
     ]
    }
   ],
   "source": [
    "#!pip install pyyaml"
   ]
  },
  {
   "cell_type": "code",
   "execution_count": 19,
   "metadata": {},
   "outputs": [],
   "source": [
    "def read_yaml_file(filepath):\n",
    "    with open(filepath, 'r', encoding='utf-8') as file:\n",
    "        data = yaml.safe_load(file)\n",
    "        if data is None:\n",
    "            print(f\"Warning: {filepath} is empty.\")\n",
    "            return {}  # Return an empty dictionary for empty files\n",
    "    return data"
   ]
  },
  {
   "cell_type": "code",
   "execution_count": 13,
   "metadata": {},
   "outputs": [],
   "source": [
    "def yaml_to_dataframe(yaml_dict):\n",
    "    # Check for the 'hypotheses' key\n",
    "    if 'hypotheses' not in yaml_dict:\n",
    "        raise ValueError(f\"'hypotheses' key not found in the YAML data\")\n",
    "    \n",
    "    # Flatten the hypotheses section\n",
    "    hypotheses_data = []\n",
    "    for idx, hypothesis in yaml_dict['hypotheses'].items():\n",
    "        hypothesis['hypothesis_id'] = idx\n",
    "        hypotheses_data.append(hypothesis)\n",
    "    \n",
    "    hypotheses_df = pd.DataFrame(hypotheses_data)\n",
    "    \n",
    "    # Repeat other data for each hypothesis\n",
    "    for key, value in yaml_dict.items():\n",
    "        if key != 'hypotheses':\n",
    "            hypotheses_df[key] = value\n",
    "    \n",
    "    return hypotheses_df\n"
   ]
  },
  {
   "cell_type": "code",
   "execution_count": 21,
   "metadata": {},
   "outputs": [
    {
     "name": "stdout",
     "output_type": "stream",
     "text": [
      "Warning: chatGPT_results\\diagram10.yaml is empty.\n",
      "Warning: chatGPT_results\\diagram100.yaml is empty.\n",
      "Warning: chatGPT_results\\diagram11.yaml is empty.\n",
      "Warning: chatGPT_results\\diagram12.yaml is empty.\n",
      "Warning: chatGPT_results\\diagram13.yaml is empty.\n",
      "Warning: chatGPT_results\\diagram14.yaml is empty.\n",
      "Warning: chatGPT_results\\diagram15.yaml is empty.\n",
      "Warning: chatGPT_results\\diagram16.yaml is empty.\n",
      "Warning: chatGPT_results\\diagram17.yaml is empty.\n",
      "Warning: chatGPT_results\\diagram18.yaml is empty.\n",
      "Warning: chatGPT_results\\diagram19.yaml is empty.\n"
     ]
    },
    {
     "ename": "AttributeError",
     "evalue": "'NoneType' object has no attribute 'items'",
     "output_type": "error",
     "traceback": [
      "\u001b[1;31m---------------------------------------------------------------------------\u001b[0m",
      "\u001b[1;31mAttributeError\u001b[0m                            Traceback (most recent call last)",
      "Cell \u001b[1;32mIn[21], line 15\u001b[0m\n\u001b[0;32m     13\u001b[0m \u001b[39mif\u001b[39;00m yaml_dict:  \u001b[39m# Only process non-empty dictionaries\u001b[39;00m\n\u001b[0;32m     14\u001b[0m     \u001b[39mtry\u001b[39;00m:\n\u001b[1;32m---> 15\u001b[0m         df \u001b[39m=\u001b[39m yaml_to_dataframe(yaml_dict)\n\u001b[0;32m     16\u001b[0m         all_dataframes\u001b[39m.\u001b[39mappend(df)\n\u001b[0;32m     17\u001b[0m     \u001b[39mexcept\u001b[39;00m \u001b[39mValueError\u001b[39;00m \u001b[39mas\u001b[39;00m e:\n",
      "Cell \u001b[1;32mIn[13], line 8\u001b[0m, in \u001b[0;36myaml_to_dataframe\u001b[1;34m(yaml_dict)\u001b[0m\n\u001b[0;32m      6\u001b[0m \u001b[39m# Flatten the hypotheses section\u001b[39;00m\n\u001b[0;32m      7\u001b[0m hypotheses_data \u001b[39m=\u001b[39m []\n\u001b[1;32m----> 8\u001b[0m \u001b[39mfor\u001b[39;00m idx, hypothesis \u001b[39min\u001b[39;00m yaml_dict[\u001b[39m'\u001b[39;49m\u001b[39mhypotheses\u001b[39;49m\u001b[39m'\u001b[39;49m]\u001b[39m.\u001b[39;49mitems():\n\u001b[0;32m      9\u001b[0m     hypothesis[\u001b[39m'\u001b[39m\u001b[39mhypothesis_id\u001b[39m\u001b[39m'\u001b[39m] \u001b[39m=\u001b[39m idx\n\u001b[0;32m     10\u001b[0m     hypotheses_data\u001b[39m.\u001b[39mappend(hypothesis)\n",
      "\u001b[1;31mAttributeError\u001b[0m: 'NoneType' object has no attribute 'items'"
     ]
    }
   ],
   "source": [
    "directory = 'chatGPT_results'\n",
    "all_dataframes = []\n",
    "\n",
    "# Ensure the directory exists\n",
    "if not os.path.exists(directory):\n",
    "    print(f\"The directory {directory} does not exist.\")\n",
    "else:\n",
    "    # Process each YAML file in the specified directory\n",
    "    for filename in os.listdir(directory):\n",
    "        if filename.endswith('.yaml') or filename.endswith('.yml'):\n",
    "            filepath = os.path.join(directory, filename)\n",
    "            yaml_dict = read_yaml_file(filepath)\n",
    "            if yaml_dict:  # Only process non-empty dictionaries\n",
    "                try:\n",
    "                    df = yaml_to_dataframe(yaml_dict)\n",
    "                    all_dataframes.append(df)\n",
    "                except ValueError as e:\n",
    "                    print(f\"Error processing {filepath}: {e}\")\n",
    "\n",
    "    # Concatenate all DataFrames\n",
    "    final_dataframe = pd.concat(all_dataframes, ignore_index=True)\n",
    "\n",
    "    # Optionally, save the final DataFrame to a CSV file\n",
    "    # final_dataframe.to_csv('output.csv', index=False)\n",
    "\n",
    "    # Display the final DataFrame\n",
    "    final_dataframe\n"
   ]
  }
 ],
 "metadata": {
  "kernelspec": {
   "display_name": "Python 3",
   "language": "python",
   "name": "python3"
  },
  "language_info": {
   "codemirror_mode": {
    "name": "ipython",
    "version": 3
   },
   "file_extension": ".py",
   "mimetype": "text/x-python",
   "name": "python",
   "nbconvert_exporter": "python",
   "pygments_lexer": "ipython3",
   "version": "3.11.5"
  },
  "orig_nbformat": 4
 },
 "nbformat": 4,
 "nbformat_minor": 2
}
