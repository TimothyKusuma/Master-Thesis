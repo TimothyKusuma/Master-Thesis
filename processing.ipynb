{
 "cells": [
  {
   "cell_type": "code",
   "execution_count": 108,
   "metadata": {},
   "outputs": [],
   "source": [
    "import os\n",
    "import yaml\n",
    "import glob\n",
    "import Levenshtein as lev\n",
    "from sklearn.metrics import precision_score, recall_score, f1_score"
   ]
  },
  {
   "cell_type": "code",
   "execution_count": 109,
   "metadata": {},
   "outputs": [],
   "source": [
    "def load_yaml(file_path):\n",
    "    with open(file_path, 'r') as stream:\n",
    "        try:\n",
    "            return yaml.safe_load(stream)\n",
    "        except yaml.YAMLError as exc:\n",
    "            print(exc)"
   ]
  },
  {
   "cell_type": "code",
   "execution_count": 110,
   "metadata": {},
   "outputs": [],
   "source": [
    "def compare_items(true_items, detected_items):\n",
    "    TP = FP = FN = 0\n",
    "    \n",
    "    for item in detected_items:\n",
    "        if item in true_items:\n",
    "            TP += 1\n",
    "        else:\n",
    "            FP += 1\n",
    "    \n",
    "    for item in true_items:\n",
    "        if item not in detected_items:\n",
    "            FN += 1\n",
    "            \n",
    "    return TP, FP, FN"
   ]
  },
  {
   "cell_type": "code",
   "execution_count": 111,
   "metadata": {},
   "outputs": [],
   "source": [
    "def compare_constructs(true_constructs, detected_constructs, max_distance=3):\n",
    "    true_set = set(true_constructs.values())\n",
    "    detected_set = set(detected_constructs.values())\n",
    "    TP = sum(1 for det in detected_set if any(is_similar(det, tru, max_distance) for tru in true_set))\n",
    "    FP = len(detected_set) - TP\n",
    "    FN = len(true_set) - TP\n",
    "    return TP, FP, FN\n",
    "\n",
    "# maybe remove special characters first"
   ]
  },
  {
   "cell_type": "code",
   "execution_count": 112,
   "metadata": {},
   "outputs": [],
   "source": [
    "def compare_hypotheses(true_constructs, detected_constructs, true_hypotheses, detected_hypotheses):\n",
    "    # Translate hypothesis keys to construct names for true data\n",
    "    true_hypotheses_translated = {(true_constructs[h['cause']], true_constructs[h['effect']]) for h in true_hypotheses.values()}\n",
    "    # Translate hypothesis keys to construct names for detected data\n",
    "    detected_hypotheses_translated = {(detected_constructs[h['cause']], detected_constructs[h['effect']]) for h in detected_hypotheses.values()}\n",
    "\n",
    "    TP = len(true_hypotheses_translated.intersection(detected_hypotheses_translated))\n",
    "    FP = len(detected_hypotheses_translated - true_hypotheses_translated)\n",
    "    FN = len(true_hypotheses_translated - detected_hypotheses_translated)\n",
    "\n",
    "    return TP, FP, FN"
   ]
  },
  {
   "cell_type": "code",
   "execution_count": 113,
   "metadata": {},
   "outputs": [
    {
     "data": {
      "text/plain": [
       "'\\ndef compare_texts(true_texts, detected_texts, max_distance=3):\\n    TP = sum(1 for det_text in detected_texts if any(is_similar(det_text, true_text, max_distance) for true_text in true_texts))\\n    FP = len(detected_texts) - TP\\n    FN = len(true_texts) - TP\\n    return TP, FP, FN\\n'"
      ]
     },
     "execution_count": 113,
     "metadata": {},
     "output_type": "execute_result"
    }
   ],
   "source": [
    "\"\"\"\n",
    "def compare_texts(true_texts, detected_texts, max_distance=3):\n",
    "    TP = sum(1 for det_text in detected_texts if any(is_similar(det_text, true_text, max_distance) for true_text in true_texts))\n",
    "    FP = len(detected_texts) - TP\n",
    "    FN = len(true_texts) - TP\n",
    "    return TP, FP, FN\n",
    "\"\"\""
   ]
  },
  {
   "cell_type": "code",
   "execution_count": 114,
   "metadata": {},
   "outputs": [],
   "source": [
    "def is_similar(str1, str2, max_distance=3):\n",
    "    return lev.distance(str1, str2) <= max_distance"
   ]
  },
  {
   "cell_type": "code",
   "execution_count": 115,
   "metadata": {},
   "outputs": [],
   "source": [
    "def calculate_metrics(TP, FP, FN):\n",
    "    precision = TP / (TP + FP) if TP + FP > 0 else 0\n",
    "    recall = TP / (TP + FN) if TP + FN > 0 else 0\n",
    "    f1 = 2 * (precision * recall) / (precision + recall) if precision + recall > 0 else 0\n",
    "    return precision, recall, f1"
   ]
  },
  {
   "cell_type": "code",
   "execution_count": 116,
   "metadata": {},
   "outputs": [],
   "source": [
    "# Load the YAML files\n",
    "ground_truth_files = sorted(glob.glob('chatGPT_results/*.yaml'))\n",
    "extracted_files = sorted(glob.glob('true_results/*.yaml'))"
   ]
  },
  {
   "cell_type": "code",
   "execution_count": 117,
   "metadata": {},
   "outputs": [
    {
     "data": {
      "text/plain": [
       "['true_results/diagram1.yaml',\n",
       " 'true_results/diagram2.yaml',\n",
       " 'true_results/diagram28.yaml',\n",
       " 'true_results/diagram3.yaml',\n",
       " 'true_results/diagram30.yaml',\n",
       " 'true_results/diagram4.yaml',\n",
       " 'true_results/diagram5.yaml',\n",
       " 'true_results/diagram50.yaml',\n",
       " 'true_results/diagram6.yaml',\n",
       " 'true_results/diagram7.yaml',\n",
       " 'true_results/diagram8.yaml',\n",
       " 'true_results/diagram87.yaml',\n",
       " 'true_results/diagram99.yaml']"
      ]
     },
     "execution_count": 117,
     "metadata": {},
     "output_type": "execute_result"
    }
   ],
   "source": [
    "ground_truth_files = [element.replace(\"\\\\\", \"/\") for element in ground_truth_files]\n",
    "extracted_files = [element.replace(\"\\\\\", \"/\") for element in extracted_files]\n",
    "\n",
    "extracted_files"
   ]
  },
  {
   "cell_type": "code",
   "execution_count": 118,
   "metadata": {},
   "outputs": [],
   "source": [
    "ground_truth = []\n",
    "extracted_data = []\n",
    "\n",
    "# Load files\n",
    "for gt_file, ex_file in zip(ground_truth_files, extracted_files):\n",
    "    ground_truth.append(load_yaml(gt_file))\n",
    "    extracted_data.append(load_yaml(ex_file))"
   ]
  },
  {
   "cell_type": "code",
   "execution_count": 119,
   "metadata": {},
   "outputs": [],
   "source": [
    "\n",
    "# Initialize counters for constructs and hypotheses\n",
    "constructs_TP = constructs_FP = constructs_FN = 0\n",
    "hypotheses_TP = hypotheses_FP = hypotheses_FN = 0\n",
    "\n",
    "# Process each file\n",
    "for gt_file, ex_file in zip(ground_truth_files, extracted_files):\n",
    "    ground_truth = load_yaml(gt_file)\n",
    "    extracted_data = load_yaml(ex_file)\n",
    "\n",
    "    # If either file failed to load properly, skip this pair\n",
    "    if ground_truth is None or extracted_data is None:\n",
    "        print(f\"Error loading files: {gt_file}, {ex_file}\")\n",
    "        continue\n",
    "    if 'constructs' not in ground_truth or 'constructs' not in extracted_data:\n",
    "        print(f\"Missing 'constructs' in files: {gt_file}, {ex_file}\")\n",
    "        continue\n",
    "    \n",
    "    # Compare constructs\n",
    "    true_constructs = ground_truth.get('constructs', {})\n",
    "    detected_constructs = extracted_data.get('constructs', {})\n",
    "    TP, FP, FN = compare_constructs(true_constructs, detected_constructs)\n",
    "    constructs_TP += TP\n",
    "    constructs_FP += FP\n",
    "    constructs_FN += FN\n",
    "\n",
    "    # Compare hypotheses using the updated function\n",
    "    true_hypotheses = ground_truth.get('hypotheses', {})\n",
    "    detected_hypotheses = extracted_data.get('hypotheses', {})\n",
    "    TP, FP, FN = compare_hypotheses(true_constructs, detected_constructs, true_hypotheses, detected_hypotheses)\n",
    "    hypotheses_TP += TP\n",
    "    hypotheses_FP += FP\n",
    "    hypotheses_FN += FN\n",
    "\n",
    "    # Compare texts\n",
    "    #TP, FP, FN = compare_texts(ground_truth['texts'], extracted_data['texts'])\n",
    "    #all_TP += TP\n",
    "    #all_FP += FP\n",
    "    #all_FN += FN\n"
   ]
  },
  {
   "cell_type": "code",
   "execution_count": 120,
   "metadata": {},
   "outputs": [
    {
     "name": "stdout",
     "output_type": "stream",
     "text": [
      "Constructs - Precision: 0.85, Recall: 0.90, F1 Score: 0.87\n",
      "Hypotheses - Precision: 0.47, Recall: 0.51, F1 Score: 0.49\n"
     ]
    }
   ],
   "source": [
    "# Calculate and print metrics for constructs\n",
    "constructs_precision, constructs_recall, constructs_f1 = calculate_metrics(constructs_TP, constructs_FP, constructs_FN)\n",
    "print(f\"Constructs - Precision: {constructs_precision:.2f}, Recall: {constructs_recall:.2f}, F1 Score: {constructs_f1:.2f}\")\n",
    "\n",
    "# Calculate and print metrics for hypotheses\n",
    "hypotheses_precision, hypotheses_recall, hypotheses_f1 = calculate_metrics(hypotheses_TP, hypotheses_FP, hypotheses_FN)\n",
    "print(f\"Hypotheses - Precision: {hypotheses_precision:.2f}, Recall: {hypotheses_recall:.2f}, F1 Score: {hypotheses_f1:.2f}\")"
   ]
  }
 ],
 "metadata": {
  "kernelspec": {
   "display_name": "Python 3",
   "language": "python",
   "name": "python3"
  },
  "language_info": {
   "codemirror_mode": {
    "name": "ipython",
    "version": 3
   },
   "file_extension": ".py",
   "mimetype": "text/x-python",
   "name": "python",
   "nbconvert_exporter": "python",
   "pygments_lexer": "ipython3",
   "version": "3.11.3"
  },
  "orig_nbformat": 4
 },
 "nbformat": 4,
 "nbformat_minor": 2
}
